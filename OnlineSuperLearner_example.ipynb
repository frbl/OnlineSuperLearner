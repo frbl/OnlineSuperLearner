{
 "cells": [
  {
   "cell_type": "markdown",
   "metadata": {},
   "source": [
    "# OnlineSuperLearner example project\n",
    "In this notebook we present a very basic example of how the OnlineSuperLearner (OSL) can be used. The goal of OSL is to be able to make predictions and do inference on time series data. In order to do so it estimates a density function for each of the covariates, the treatment variables, and the outcome. After these densities are fitted, OSL can simulate interventions and determine the outcome given such an intervention.\n",
    "\n",
    "## This notebook\n",
    "In this notebook we will present the steps needed to perform a basic simulation. We will start by installing and configuring the package. Then we approximate our true parameter of interest given the simulation data. This approximated truth is used as ground truth for the rest of the algorithm. In the next step we estimate the densities and run an iteritative sampling method, in which we apply the same treatment as in the approximation step. If everything goes well, both parameters should be approximately the same. Note that this notebook does not apply any TMLE.\n",
    "\n",
    "## Install dependencies\n",
    "Before anything else we need to install several dependencies. Most dependencies are used by OSL and some are used by _Condense_. First define the dependencies we need."
   ]
  },
  {
   "cell_type": "code",
   "execution_count": 6,
   "metadata": {},
   "outputs": [],
   "source": [
    "# Define the packages we want to install\n",
    "# Set the can mirror\n",
    "options(repos = structure(c(CRAN = \"https://cran.cnr.berkeley.edu/\")))\n",
    "\n",
    "gh_packages <- list(\n",
    "  list(repo = \"jeroenooms/jsonlite\", branch = 'master'),\n",
    "  list(repo = \"osofr/condensier\", branch = 'fb-add-update')#,\n",
    "#  list(repo = \"frbl/OnlineSuperLearner\", branch = 'master')\n",
    ")\n",
    "\n",
    "\n",
    "packages <- c(\n",
    "    \"dplyr\",\n",
    "    \"devtools\",\n",
    "\"ggplot2\",\n",
    "\"mockery\",\n",
    "\"RCurl\",\n",
    "\"jsonlite\",\n",
    "\"data.table\",\n",
    "\"R.utils\",\n",
    "\"R.methodsS3\",\n",
    "\"R.oo\",\n",
    "\"testthat\",\n",
    "\"xgboost\",\n",
    "\"glmnet\",\n",
    "\"speedglm\",\n",
    "\"nnls\",\n",
    "\"sgd\",\n",
    "\"magrittr\",\n",
    "\"assertthat\",\n",
    "\"optimr\",\n",
    "\"nloptr\",\n",
    "\"purrr\",\n",
    "\"doParallel\",\n",
    "\"foreach\",\n",
    "\"snow\",\n",
    "\"doSNOW\",\n",
    "\"matrixStats\",\n",
    "\"digest\",\n",
    "\"future\",\n",
    "\"roxygen2\",\n",
    "\"h2o\")"
   ]
  },
  {
   "cell_type": "markdown",
   "metadata": {},
   "source": [
    "Now install the dependencies:"
   ]
  },
  {
   "cell_type": "code",
   "execution_count": 7,
   "metadata": {},
   "outputs": [
    {
     "name": "stderr",
     "output_type": "stream",
     "text": [
      "Installing package into ‘/usr/local/spark-2.2.0-bin-hadoop2.7/R/lib’\n",
      "(as ‘lib’ is unspecified)\n"
     ]
    }
   ],
   "source": [
    "options(unzip = 'internal')\n",
    "install.packages('bindrcpp')"
   ]
  },
  {
   "cell_type": "code",
   "execution_count": 8,
   "metadata": {},
   "outputs": [
    {
     "name": "stderr",
     "output_type": "stream",
     "text": [
      "Downloading GitHub repo jeroenooms/jsonlite@master\n",
      "from URL https://api.github.com/repos/jeroenooms/jsonlite/zipball/master\n",
      "Installing jsonlite\n",
      "'/opt/conda/lib/R/bin/R' --no-site-file --no-environ --no-save --no-restore  \\\n",
      "  --quiet CMD INSTALL  \\\n",
      "  '/tmp/RtmplQd9o2/devtoolsf3e4f25a7/jeroen-jsonlite-e5e6143'  \\\n",
      "  --library='/usr/local/spark-2.2.0-bin-hadoop2.7/R/lib' --install-tests \n",
      "\n",
      "Downloading GitHub repo osofr/condensier@fb-add-update\n",
      "from URL https://api.github.com/repos/osofr/condensier/zipball/fb-add-update\n",
      "Installing condensier\n",
      "'/opt/conda/lib/R/bin/R' --no-site-file --no-environ --no-save --no-restore  \\\n",
      "  --quiet CMD INSTALL  \\\n",
      "  '/tmp/RtmplQd9o2/devtoolsf15275e5a/osofr-condensier-ded1e7d'  \\\n",
      "  --library='/usr/local/spark-2.2.0-bin-hadoop2.7/R/lib' --install-tests \n",
      "\n"
     ]
    }
   ],
   "source": [
    "install <- function(packages, installfunc, ...){\n",
    "  new.packages <- packages[!(packages %in% installed.packages()[, \"Package\"])]\n",
    "  if (length(new.packages))\n",
    "    installfunc(new.packages, ...)\n",
    "  update.packages(lib.loc = Sys.getenv(\"R_LIBS_USER\"), ask = FALSE)\n",
    "}\n",
    "\n",
    "install(packages, install.packages)\n",
    "\n",
    "invisible(lapply(gh_packages, function(pkg) install(pkg$repo, devtools::install_github, ref = pkg$branch, force = TRUE)))"
   ]
  },
  {
   "cell_type": "markdown",
   "metadata": {},
   "source": [
    "And then load the actual packages. We will use the local version from source for the OSL package."
   ]
  },
  {
   "cell_type": "code",
   "execution_count": 9,
   "metadata": {},
   "outputs": [
    {
     "name": "stderr",
     "output_type": "stream",
     "text": [
      "Removing package from ‘/usr/local/spark-2.2.0-bin-hadoop2.7/R/lib’\n",
      "(as ‘lib’ is unspecified)\n",
      "Installing package into ‘/usr/local/spark-2.2.0-bin-hadoop2.7/R/lib’\n",
      "(as ‘lib’ is unspecified)\n",
      "Loading required package: condensier\n",
      "condensier\n",
      "The condensier package is still in beta testing. Interpret results with caution.\n",
      "Loading required package: OnlineSuperLearner\n",
      "Loading required package: R6\n",
      "OnlineSuperLearner\n",
      "The OnlineSuperLearner package is still in beta testing. Interpret results with caution.\n",
      "Loading required package: dplyr\n",
      "\n",
      "Attaching package: ‘dplyr’\n",
      "\n",
      "The following objects are masked from ‘package:stats’:\n",
      "\n",
      "    filter, lag\n",
      "\n",
      "The following objects are masked from ‘package:base’:\n",
      "\n",
      "    intersect, setdiff, setequal, union\n",
      "\n",
      "Loading required package: devtools\n",
      "\n",
      "Attaching package: ‘devtools’\n",
      "\n",
      "The following object is masked _by_ ‘.GlobalEnv’:\n",
      "\n",
      "    install\n",
      "\n",
      "Loading required package: ggplot2\n",
      "Loading required package: mockery\n",
      "Loading required package: RCurl\n",
      "Loading required package: bitops\n",
      "Loading required package: jsonlite\n",
      "Loading required package: data.table\n",
      "\n",
      "Attaching package: ‘data.table’\n",
      "\n",
      "The following objects are masked from ‘package:dplyr’:\n",
      "\n",
      "    between, first, last\n",
      "\n",
      "Loading required package: R.utils\n",
      "Loading required package: R.oo\n",
      "Loading required package: R.methodsS3\n",
      "R.methodsS3 v1.7.1 (2016-02-15) successfully loaded. See ?R.methodsS3 for help.\n",
      "R.oo v1.21.0 (2016-10-30) successfully loaded. See ?R.oo for help.\n",
      "\n",
      "Attaching package: ‘R.oo’\n",
      "\n",
      "The following object is masked from ‘package:RCurl’:\n",
      "\n",
      "    clone\n",
      "\n",
      "The following objects are masked from ‘package:devtools’:\n",
      "\n",
      "    check, unload\n",
      "\n",
      "The following objects are masked from ‘package:methods’:\n",
      "\n",
      "    getClasses, getMethods\n",
      "\n",
      "The following objects are masked from ‘package:base’:\n",
      "\n",
      "    attach, detach, gc, load, save\n",
      "\n",
      "R.utils v2.5.0 (2016-11-07) successfully loaded. See ?R.utils for help.\n",
      "\n",
      "Attaching package: ‘R.utils’\n",
      "\n",
      "The following object is masked from ‘package:jsonlite’:\n",
      "\n",
      "    validate\n",
      "\n",
      "The following object is masked from ‘package:RCurl’:\n",
      "\n",
      "    reset\n",
      "\n",
      "The following object is masked from ‘package:utils’:\n",
      "\n",
      "    timestamp\n",
      "\n",
      "The following objects are masked from ‘package:base’:\n",
      "\n",
      "    cat, commandArgs, getOption, inherits, isOpen, parse, warnings\n",
      "\n",
      "Loading required package: testthat\n",
      "\n",
      "Attaching package: ‘testthat’\n",
      "\n",
      "The following object is masked from ‘package:R.oo’:\n",
      "\n",
      "    equals\n",
      "\n",
      "The following object is masked from ‘package:dplyr’:\n",
      "\n",
      "    matches\n",
      "\n",
      "Loading required package: xgboost\n",
      "\n",
      "Attaching package: ‘xgboost’\n",
      "\n",
      "The following object is masked from ‘package:dplyr’:\n",
      "\n",
      "    slice\n",
      "\n",
      "Loading required package: glmnet\n",
      "Loading required package: Matrix\n",
      "Loading required package: foreach\n",
      "Loaded glmnet 2.0-10\n",
      "\n",
      "Loading required package: speedglm\n",
      "Loading required package: MASS\n",
      "\n",
      "Attaching package: ‘MASS’\n",
      "\n",
      "The following object is masked from ‘package:dplyr’:\n",
      "\n",
      "    select\n",
      "\n",
      "Loading required package: nnls\n",
      "Loading required package: sgd\n",
      "Loading required package: magrittr\n",
      "\n",
      "Attaching package: ‘magrittr’\n",
      "\n",
      "The following objects are masked from ‘package:testthat’:\n",
      "\n",
      "    equals, is_less_than, not\n",
      "\n",
      "The following object is masked from ‘package:R.utils’:\n",
      "\n",
      "    extract\n",
      "\n",
      "The following object is masked from ‘package:R.oo’:\n",
      "\n",
      "    equals\n",
      "\n",
      "Loading required package: assertthat\n",
      "Loading required package: optimr\n",
      "Loading required package: nloptr\n",
      "Loading required package: purrr\n",
      "\n",
      "Attaching package: ‘purrr’\n",
      "\n",
      "The following object is masked from ‘package:magrittr’:\n",
      "\n",
      "    set_names\n",
      "\n",
      "The following objects are masked from ‘package:foreach’:\n",
      "\n",
      "    accumulate, when\n",
      "\n",
      "The following object is masked from ‘package:testthat’:\n",
      "\n",
      "    is_null\n",
      "\n",
      "The following object is masked from ‘package:data.table’:\n",
      "\n",
      "    transpose\n",
      "\n",
      "The following object is masked from ‘package:jsonlite’:\n",
      "\n",
      "    flatten\n",
      "\n",
      "Loading required package: doParallel\n",
      "Loading required package: iterators\n",
      "Loading required package: parallel\n",
      "Loading required package: snow\n",
      "\n",
      "Attaching package: ‘snow’\n",
      "\n",
      "The following objects are masked from ‘package:parallel’:\n",
      "\n",
      "    clusterApply, clusterApplyLB, clusterCall, clusterEvalQ,\n",
      "    clusterExport, clusterMap, clusterSplit, makeCluster, parApply,\n",
      "    parCapply, parLapply, parRapply, parSapply, splitIndices,\n",
      "    stopCluster\n",
      "\n",
      "Loading required package: doSNOW\n",
      "Loading required package: matrixStats\n",
      "\n",
      "Attaching package: ‘matrixStats’\n",
      "\n",
      "The following object is masked from ‘package:dplyr’:\n",
      "\n",
      "    count\n",
      "\n",
      "Loading required package: digest\n",
      "Loading required package: future\n",
      "Loading required package: roxygen2\n",
      "Loading required package: h2o\n",
      "\n",
      "----------------------------------------------------------------------\n",
      "\n",
      "Your next step is to start H2O:\n",
      "    > h2o.init()\n",
      "\n",
      "For H2O package documentation, ask for help:\n",
      "    > ??h2o\n",
      "\n",
      "After starting H2O, you can use the Web UI at http://localhost:54321\n",
      "For more information visit http://docs.h2o.ai\n",
      "\n",
      "----------------------------------------------------------------------\n",
      "\n",
      "\n",
      "Attaching package: ‘h2o’\n",
      "\n",
      "The following objects are masked from ‘package:data.table’:\n",
      "\n",
      "    hour, month, week, year\n",
      "\n",
      "The following objects are masked from ‘package:stats’:\n",
      "\n",
      "    cor, sd, var\n",
      "\n",
      "The following objects are masked from ‘package:base’:\n",
      "\n",
      "    &&, %*%, %in%, ||, apply, as.factor, as.numeric, colnames,\n",
      "    colnames<-, ifelse, is.character, is.factor, is.numeric, log,\n",
      "    log10, log1p, log2, round, signif, trunc\n",
      "\n"
     ]
    }
   ],
   "source": [
    "# Set a seed and genereal helpers, load the packages\n",
    "set.seed(12345)\n",
    "expit = plogis\n",
    "logit = qlogis\n",
    "\n",
    "packages <- c('condensier', 'OnlineSuperLearner', packages)\n",
    "\n",
    "if (\"package:OnlineSuperLearner\" %in% search()) { detach(\"package:OnlineSuperLearner\", unload=TRUE) }\n",
    "if (\"OnlineSuperLearner\" %in% rownames(installed.packages())) { remove.packages(\"OnlineSuperLearner\") }\n",
    "install.packages('.', repos = NULL, type=\"source\")\n",
    "\n",
    "suppressWarnings(\n",
    "    invisible(lapply(packages, require, character.only = TRUE))\n",
    ")"
   ]
  },
  {
   "cell_type": "markdown",
   "metadata": {},
   "source": [
    "Check if the correct functions are exported.`"
   ]
  },
  {
   "cell_type": "code",
   "execution_count": 10,
   "metadata": {},
   "outputs": [
    {
     "data": {
      "text/html": [
       "<ol class=list-inline>\n",
       "\t<li>'Data.Stream'</li>\n",
       "\t<li>'PreProcessor.generate_bounds'</li>\n",
       "\t<li>'.__T__[:base'</li>\n",
       "\t<li>'.__T__$:base'</li>\n",
       "\t<li>'.__T__[[&lt;-:base'</li>\n",
       "\t<li>'ML.Local.Speedlm'</li>\n",
       "\t<li>'Simulator.GAD'</li>\n",
       "\t<li>'CrossValidationRiskCalculator'</li>\n",
       "\t<li>'Data.Stream.Simulator'</li>\n",
       "\t<li>'OutputPlotGenerator.create_density_plot'</li>\n",
       "\t<li>'.__T__$&lt;-:base'</li>\n",
       "\t<li>'OutputPlotGenerator.create_convergence_plot'</li>\n",
       "\t<li>'.__T__|:base'</li>\n",
       "\t<li>'Data.Static'</li>\n",
       "\t<li>'DensityEstimation.are_all_estimators_online'</li>\n",
       "\t<li>'SMG.Mock'</li>\n",
       "\t<li>'OutputPlotGenerator.create_risk_plot'</li>\n",
       "\t<li>'SMG.Lag'</li>\n",
       "\t<li>'.__T__[&lt;-:base'</li>\n",
       "\t<li>'OnlineSuperLearner'</li>\n",
       "\t<li>'RandomVariable'</li>\n",
       "\t<li>'.__T__c:base'</li>\n",
       "\t<li>'OnlineSuperLearner.Simulation'</li>\n",
       "\t<li>'PreProcessor'</li>\n",
       "\t<li>'SummaryMeasureGenerator'</li>\n",
       "\t<li>'.__T__&amp;:base'</li>\n",
       "\t<li>'Evaluation.get_evaluation_function'</li>\n",
       "\t<li>'SMGFactory'</li>\n",
       "</ol>\n"
      ],
      "text/latex": [
       "\\begin{enumerate*}\n",
       "\\item 'Data.Stream'\n",
       "\\item 'PreProcessor.generate\\_bounds'\n",
       "\\item '.\\_\\_T\\_\\_{[}:base'\n",
       "\\item '.\\_\\_T\\_\\_\\$:base'\n",
       "\\item '.\\_\\_T\\_\\_{[}{[}<-:base'\n",
       "\\item 'ML.Local.Speedlm'\n",
       "\\item 'Simulator.GAD'\n",
       "\\item 'CrossValidationRiskCalculator'\n",
       "\\item 'Data.Stream.Simulator'\n",
       "\\item 'OutputPlotGenerator.create\\_density\\_plot'\n",
       "\\item '.\\_\\_T\\_\\_\\$<-:base'\n",
       "\\item 'OutputPlotGenerator.create\\_convergence\\_plot'\n",
       "\\item '.\\_\\_T\\_\\_\\textbar{}:base'\n",
       "\\item 'Data.Static'\n",
       "\\item 'DensityEstimation.are\\_all\\_estimators\\_online'\n",
       "\\item 'SMG.Mock'\n",
       "\\item 'OutputPlotGenerator.create\\_risk\\_plot'\n",
       "\\item 'SMG.Lag'\n",
       "\\item '.\\_\\_T\\_\\_{[}<-:base'\n",
       "\\item 'OnlineSuperLearner'\n",
       "\\item 'RandomVariable'\n",
       "\\item '.\\_\\_T\\_\\_c:base'\n",
       "\\item 'OnlineSuperLearner.Simulation'\n",
       "\\item 'PreProcessor'\n",
       "\\item 'SummaryMeasureGenerator'\n",
       "\\item '.\\_\\_T\\_\\_\\&:base'\n",
       "\\item 'Evaluation.get\\_evaluation\\_function'\n",
       "\\item 'SMGFactory'\n",
       "\\end{enumerate*}\n"
      ],
      "text/markdown": [
       "1. 'Data.Stream'\n",
       "2. 'PreProcessor.generate_bounds'\n",
       "3. '.__T__[:base'\n",
       "4. '.__T__$:base'\n",
       "5. '.__T__[[&lt;-:base'\n",
       "6. 'ML.Local.Speedlm'\n",
       "7. 'Simulator.GAD'\n",
       "8. 'CrossValidationRiskCalculator'\n",
       "9. 'Data.Stream.Simulator'\n",
       "10. 'OutputPlotGenerator.create_density_plot'\n",
       "11. '.__T__$&lt;-:base'\n",
       "12. 'OutputPlotGenerator.create_convergence_plot'\n",
       "13. '.__T__|:base'\n",
       "14. 'Data.Static'\n",
       "15. 'DensityEstimation.are_all_estimators_online'\n",
       "16. 'SMG.Mock'\n",
       "17. 'OutputPlotGenerator.create_risk_plot'\n",
       "18. 'SMG.Lag'\n",
       "19. '.__T__[&lt;-:base'\n",
       "20. 'OnlineSuperLearner'\n",
       "21. 'RandomVariable'\n",
       "22. '.__T__c:base'\n",
       "23. 'OnlineSuperLearner.Simulation'\n",
       "24. 'PreProcessor'\n",
       "25. 'SummaryMeasureGenerator'\n",
       "26. '.__T__&amp;:base'\n",
       "27. 'Evaluation.get_evaluation_function'\n",
       "28. 'SMGFactory'\n",
       "\n",
       "\n"
      ],
      "text/plain": [
       " [1] \"Data.Stream\"                                \n",
       " [2] \"PreProcessor.generate_bounds\"               \n",
       " [3] \".__T__[:base\"                               \n",
       " [4] \".__T__$:base\"                               \n",
       " [5] \".__T__[[<-:base\"                            \n",
       " [6] \"ML.Local.Speedlm\"                           \n",
       " [7] \"Simulator.GAD\"                              \n",
       " [8] \"CrossValidationRiskCalculator\"              \n",
       " [9] \"Data.Stream.Simulator\"                      \n",
       "[10] \"OutputPlotGenerator.create_density_plot\"    \n",
       "[11] \".__T__$<-:base\"                             \n",
       "[12] \"OutputPlotGenerator.create_convergence_plot\"\n",
       "[13] \".__T__|:base\"                               \n",
       "[14] \"Data.Static\"                                \n",
       "[15] \"DensityEstimation.are_all_estimators_online\"\n",
       "[16] \"SMG.Mock\"                                   \n",
       "[17] \"OutputPlotGenerator.create_risk_plot\"       \n",
       "[18] \"SMG.Lag\"                                    \n",
       "[19] \".__T__[<-:base\"                             \n",
       "[20] \"OnlineSuperLearner\"                         \n",
       "[21] \"RandomVariable\"                             \n",
       "[22] \".__T__c:base\"                               \n",
       "[23] \"OnlineSuperLearner.Simulation\"              \n",
       "[24] \"PreProcessor\"                               \n",
       "[25] \"SummaryMeasureGenerator\"                    \n",
       "[26] \".__T__&:base\"                               \n",
       "[27] \"Evaluation.get_evaluation_function\"         \n",
       "[28] \"SMGFactory\"                                 "
      ]
     },
     "metadata": {},
     "output_type": "display_data"
    }
   ],
   "source": [
    "getNamespaceExports(\"OnlineSuperLearner\")"
   ]
  },
  {
   "cell_type": "markdown",
   "metadata": {},
   "source": [
    "## Configuration\n",
    "The next step is to configure several parameters for the estimation procedure itself. There are several options to configure:\n",
    "- `log`: Whether or not we want logging of the application. Logging can be done using the R.utils verbose object, e.g.: `log <- Arguments$getVerbose(-8, timestamp=TRUE)`.\n",
    "- `condensier_options`: The options to pass to the condensier package.\n",
    "- `cores`: The number of cores used by OSL\n",
    "- `training_set_size`: OSL trains the estimator on a number of training examples. After that it evaluates its performance on a different (_test_) set.\n",
    "- `max_iterations`: OSL will process the trainingset iteratively. That is, it won't use all data in one go, but will use micro batches forn a `max_iterations` number of steps."
   ]
  },
  {
   "cell_type": "code",
   "execution_count": 11,
   "metadata": {
    "collapsed": true
   },
   "outputs": [],
   "source": [
    "# Set the seed\n",
    "set.seed(12345)\n",
    "\n",
    "# Do logging?\n",
    "log <- FALSE\n",
    "\n",
    "# Should condensier fit our estimators in parallel?\n",
    "condensier_options(parfit=FALSE)\n",
    "\n",
    "# How many cores would we like to use?\n",
    "cores = parallel::detectCores()\n",
    "\n",
    "# Number of items we have in our testset\n",
    "training_set_size <- 200\n",
    "\n",
    "# Number of iterations we want to use (this is for the online training part)\n",
    "max_iterations = 3\n",
    "\n",
    "# The calculator for estimating the risk\n",
    "cv_risk_calculator <- OnlineSuperLearner::CrossValidationRiskCalculator$new()"
   ]
  },
  {
   "cell_type": "markdown",
   "metadata": {},
   "source": [
    "Now the basic configuration for the OSL is done, we can go ahead and specify which intervention we are interested in. Interventions are specified as an R `list` with three elements:\n",
    "1. _when_: When should the intervention be done? (i.e., at what time $t$)\n",
    "2. _what_: What should be the intervention we are doing? (e.g., set treatment to $x \\in \\{0,1\\}$)\n",
    "3. _variable_: Which variable do we consider the intervention variable? ($A$ in the TL literature)"
   ]
  },
  {
   "cell_type": "code",
   "execution_count": 12,
   "metadata": {
    "collapsed": true
   },
   "outputs": [],
   "source": [
    "# Number of iterations for approximation of the true parameter of interest\n",
    "B <- 1e2\n",
    "\n",
    "# The intervention we are interested in\n",
    "intervention  <- list(when = c(2), what = c(1), variable = 'A')\n",
    "\n",
    "# The time of the outcome we are interested in\n",
    "tau = 2"
   ]
  },
  {
   "cell_type": "markdown",
   "metadata": {},
   "source": [
    "## Simulation\n",
    "In order to have some data to use for testing, we have to create a simulator. This simulator uses the simulation scheme as defined in _Blaauw, Chambaz and van der Laan, in prep._. For this scheme we can define various things for each of the data generating systems:\n",
    "1. _stochMech_: the mechanism we use to generate the observations\n",
    "2. _param_: the number of steps $t$ the mechanism is connected to the past\n",
    "3. _rgen_: the mechanism for generating the observations"
   ]
  },
  {
   "cell_type": "code",
   "execution_count": 13,
   "metadata": {
    "collapsed": true
   },
   "outputs": [],
   "source": [
    "complex_treatment = FALSE\n",
    "\n",
    "# Our covariate definition\n",
    "llW <- list(\n",
    "  stochMech=function(numberOfBlocks) {\n",
    "    rnorm(numberOfBlocks, 0, 10)\n",
    "  },\n",
    "  param=c(0, 0.5, -0.25, 0.1),\n",
    "  rgen=identity\n",
    ")\n",
    "\n",
    "# The treatment mechanism\n",
    "llA <- list(\n",
    "  stochMech=function(ww) {\n",
    "    rbinom(length(ww), 1, expit(ww))\n",
    "  },\n",
    "  param=c(-0.1, 0.1, 0.25),\n",
    "  rgen=function(xx, delta=0.05){\n",
    "    probability <- delta+(1-2*delta)*expit(xx)\n",
    "    rbinom(length(xx), 1, probability)\n",
    "  }\n",
    ")\n",
    "\n",
    "# The outcome variable\n",
    "if (complex_treatment) {\n",
    "    rgenfunction = function(AW){\n",
    "      aa <- AW[, \"A\"]\n",
    "      ww <- AW[, grep(\"[^A]\", colnames(AW))]\n",
    "      mu <- aa*(0.4-0.2*sin(ww)+0.05*ww) + (1-aa)*(0.2+0.1*cos(ww)-0.03*ww)\n",
    "      rnorm(length(mu), mu, sd=0.1)\n",
    "    } \n",
    "} else {\n",
    "      rgenfunction = function(AW){\n",
    "      aa <- AW[, \"A\"]\n",
    "      mu <- 19 + aa*(0.9) + (1-aa)*(0.3)\n",
    "      rnorm(length(mu), mu, sd=0.1)\n",
    "    }\n",
    "}\n",
    "llY <- list(rgen = rgenfunction)"
   ]
  },
  {
   "cell_type": "markdown",
   "metadata": {},
   "source": [
    "Now, using these mechanisms we need to setup our simulator. First we define the 'truth', or in our case, an approximation of the true parameter of interest. This parameter specifies what we expect to receive if we would run the earlier specified intervention"
   ]
  },
  {
   "cell_type": "code",
   "execution_count": 14,
   "metadata": {},
   "outputs": [
    {
     "name": "stdout",
     "output_type": "stream",
     "text": [
      "[1] 19.90163\n"
     ]
    }
   ],
   "source": [
    "# Create the simulator\n",
    "simulator  <- OnlineSuperLearner::Simulator.GAD$new()\n",
    "\n",
    "\n",
    "# Approximate the truth under the treatment\n",
    "result.approx <- mclapply(seq(B), function(bb) {\n",
    "  when <- max(intervention$when)\n",
    "  data.int <- simulator$simulateWAY(tau, qw = llW, ga = llA, Qy = llY,\n",
    "                                    intervention = intervention, verbose = log)\n",
    "  data.int$Y[tau]\n",
    "}, mc.cores = cores) %>%\n",
    "  unlist\n",
    "\n",
    "psi.approx <- mean(result.approx)\n",
    "\n",
    "print(psi.approx)"
   ]
  },
  {
   "cell_type": "markdown",
   "metadata": {},
   "source": [
    "The next step is to use the mechanisms to create a test set of data. Note that we are wrapping our data in a `Data.Static` object. By doing so, we can easily swap this static dataframe out for a stream of incoming data."
   ]
  },
  {
   "cell_type": "code",
   "execution_count": 15,
   "metadata": {
    "collapsed": true
   },
   "outputs": [],
   "source": [
    "data.train <- simulator$simulateWAY(training_set_size + B + 100, qw=llW, ga=llA, Qy=llY, verbose=log)\n",
    "data.train.static <- OnlineSuperLearner::Data.Static$new(dataset = data.train)"
   ]
  },
  {
   "cell_type": "markdown",
   "metadata": {},
   "source": [
    "## The OnlineSuperLearner initialization\n",
    "Now everything is set-up, we can start our super learner procedure. First let's choose a set of estimators we wish to include in our learner. Note that OSL automatically creates a grid of learners based on te hyperparameters provided in the setup."
   ]
  },
  {
   "cell_type": "code",
   "execution_count": 16,
   "metadata": {
    "collapsed": true
   },
   "outputs": [],
   "source": [
    "algos <- list()\n",
    "#algos <- list(list(description='ML.H2O.randomForest-1tree',\n",
    "                      #algorithm = 'ML.H2O.randomForest',\n",
    "                      #params = list(ntrees = 1)))\n",
    "\n",
    "#algos <- append(algos, list(list(description='ML.H2O.randomForest-50trees',\n",
    "                      #algorithm = 'ML.H2O.randomForest',\n",
    "                      #params = list(ntrees = 50))))\n",
    "\n",
    "#algos <- append(algos, list(list(description='ML.H2O.gbm',\n",
    "                      #algorithm = 'ML.H2O.gbm')))\n",
    "\n",
    "algos <- append(algos, list(list(algorithm = 'ML.XGBoost',\n",
    "                       algorithm_params = list(alpha = 0),\n",
    "                       params = list(nbins = c(6,40), online = TRUE))))\n",
    "\n",
    "#algos <- append(algos, list(list(algorithm = 'ML.H2O.gbm',\n",
    "                      #algorithm_params = list(ntrees=c(10,20), min_rows=1),\n",
    "                      #params = list(nbins = c(6), online = TRUE))))\n",
    "\n",
    "#algos <- append(algos, list(list(algorithm = 'ML.H2O.randomForest',\n",
    "                      #algorithm_params = list(ntrees=c(10,20)),\n",
    "                      #params = list(nbins = c(6), online = TRUE))))\n",
    "\n",
    "algos <- append(algos, list(list(algorithm = 'condensier::speedglmR6',\n",
    "                      #algorithm_params = list(),\n",
    "                      params = list(nbins = c(3,4, 5), online = FALSE))))\n",
    "\n",
    "#algos <- append(algos, list(list(algorithm = 'condensier::glmR6',\n",
    "                      ##algorithm_params = list(),\n",
    "                      #params = list(nbins = c(16, 20, 24, 30, 34, 40), online = FALSE))))"
   ]
  },
  {
   "cell_type": "markdown",
   "metadata": {},
   "source": [
    "We use the loglikelihood loss function as general loss function. In order to do so, we should make sure that we bound all variables between $0$ and $1$. We create bounds for all variables in order to do so."
   ]
  },
  {
   "cell_type": "code",
   "execution_count": 17,
   "metadata": {
    "collapsed": true
   },
   "outputs": [],
   "source": [
    "bounds <- OnlineSuperLearner::PreProcessor.generate_bounds(data.train)\n",
    "pre_processor <- PreProcessor$new(bounds = bounds)"
   ]
  },
  {
   "cell_type": "markdown",
   "metadata": {},
   "source": [
    "The next step is to define our random variables. In this example we only consider the default variables $W$, $A$, and $Y$. Each of them is univariate, and the $A$ variable is a binary variable. Currently we only support the variable at time $t$ ($W$, $A$, or $Y$) and a lagged version therof ($*\\_lag\\_*$, e.g., $A\\_lag\\_1$):"
   ]
  },
  {
   "cell_type": "code",
   "execution_count": 18,
   "metadata": {
    "collapsed": true
   },
   "outputs": [],
   "source": [
    "W <- OnlineSuperLearner::RandomVariable$new(formula = W ~ Y_lag_1 + A_lag_1 +  W_lag_1 + Y_lag_2, family = 'gaussian')\n",
    "A <- OnlineSuperLearner::RandomVariable$new(formula = A ~ W + Y_lag_1 + A_lag_1 + W_lag_1, family = 'binomial')\n",
    "Y <- OnlineSuperLearner::RandomVariable$new(formula = Y ~ A + W, family = 'gaussian')\n",
    "\n",
    "variable_of_interest <- Y\n",
    "randomVariables <- c(W, A, Y)"
   ]
  },
  {
   "cell_type": "markdown",
   "metadata": {},
   "source": [
    "Then we need to create a system that will define our summary measure generator. This step is a bit cumbersome and will be removed in later versions. The idea is that given the definition provided in the previous code block, we have to generate several variables (e.g. the lags). In order to do so, we use a SummaryMeasureGenerator, which will parse these formulae and create the necessary summary measures."
   ]
  },
  {
   "cell_type": "code",
   "execution_count": 19,
   "metadata": {
    "collapsed": true
   },
   "outputs": [],
   "source": [
    "smg_factory <- OnlineSuperLearner::SMGFactory$new()\n",
    "summaryMeasureGenerator <- smg_factory$fabricate(randomVariables, pre_processor = pre_processor)"
   ]
  },
  {
   "cell_type": "markdown",
   "metadata": {},
   "source": [
    "The last step is to actually run and fit our SuperLearner and calculate its CV risk:"
   ]
  },
  {
   "cell_type": "code",
   "execution_count": 20,
   "metadata": {},
   "outputs": [
    {
     "name": "stderr",
     "output_type": "stream",
     "text": [
      "Warning message:\n",
      "“`cross_d()` is deprecated; please use `cross_df()` instead.”Warning message:\n",
      "“`cross_d()` is deprecated; please use `cross_df()` instead.”Warning message:\n",
      "“`cross_d()` is deprecated; please use `cross_df()` instead.”"
     ]
    },
    {
     "name": "stdout",
     "output_type": "stream",
     "text": [
      "[1] \"Fitting OnlineSuperLearner with a library: ML.XGBoost-alpha-0.nbins-6_online-TRUE, ML.XGBoost-alpha-0.nbins-40_online-TRUE, condensier::speedglmR6-vanilla.nbins-3_online-FALSE, condensier::speedglmR6-vanilla.nbins-4_online-FALSE, condensier::speedglmR6-vanilla.nbins-5_online-FALSE and we use an initial data size of 100 with 3 iterations, and a minibatch of 33.3333333333333\"\n"
     ]
    }
   ],
   "source": [
    "osl  <- OnlineSuperLearner::OnlineSuperLearner$new(algos, summaryMeasureGenerator = summaryMeasureGenerator,\n",
    "                                                   verbose = log, pre_processor = pre_processor)\n",
    "risk <- osl$fit(data.train.static, randomVariables = randomVariables,\n",
    "                initial_data_size = training_set_size / 2,\n",
    "                max_iterations = max_iterations,\n",
    "                mini_batch_size = (training_set_size / 2) / max_iterations)"
   ]
  },
  {
   "cell_type": "markdown",
   "metadata": {},
   "source": [
    "In order to see how well it can estimate we first generate our data set we want to use for testing as follows:\n",
    "\n",
    "1. Draw B observations from our simulator\n",
    "2. Input one of these observations in our algorithm\n",
    "3. Sample iteratively, and set a treatment using a prespecified when and then\n",
    "4. Record the outcome of our variable of interest ($Y$) at time tau and we denormalize it (converting it back to the original data format)\n",
    "5. Repeat this procedure a large number of `B` times\n",
    "\n",
    "Finally we take the average over all `B` observations, giving us our estimation of the parameter of interest."
   ]
  },
  {
   "cell_type": "code",
   "execution_count": 21,
   "metadata": {
    "collapsed": true
   },
   "outputs": [],
   "source": [
    "datas <- summaryMeasureGenerator$getNext(n = B)"
   ]
  },
  {
   "cell_type": "code",
   "execution_count": 22,
   "metadata": {
    "collapsed": true
   },
   "outputs": [],
   "source": [
    "do_parallel <- FALSE\n",
    "if (do_parallel) {\n",
    "    result <- mclapply(seq(B), function(i) {\n",
    "        osl$sample_iteratively(data = datas[i,],\n",
    "                           randomVariables = randomVariables,\n",
    "                           intervention = intervention,\n",
    "                           tau = tau)[tau, 'Y']\n",
    "    }, mc.cores= cores)\n",
    "} else {\n",
    "    result <- foreach(i=seq(B), .combine=rbind) %do% {\n",
    "        osl$sample_iteratively(data = datas[i,],\n",
    "                           randomVariables = randomVariables,\n",
    "                           intervention = intervention,\n",
    "                           tau = tau)[tau, 'Y']\n",
    "    }\n",
    "}\n",
    "\n",
    "result %<>% unlist\n"
   ]
  },
  {
   "cell_type": "markdown",
   "metadata": {},
   "source": [
    "Finally, we can see how well the algorithms converge and estimate the approximated truth. The following plot shows this convergence for both the approximation (i.e., truth, black), and the estimation (red)."
   ]
  },
  {
   "cell_type": "code",
   "execution_count": 26,
   "metadata": {},
   "outputs": [
    {
     "name": "stdout",
     "output_type": "stream",
     "text": [
      "[1] \"We have approximated psi as 19.9016316150146 our estimate is 19.9018591048906 which is a difference of: 0.000227489875989306\"\n"
     ]
    },
    {
     "data": {
      "image/png": "[encoded data removed]",
      "text/plain": [
       "plot without title"
      ]
     },
     "metadata": {},
     "output_type": "display_data"
    }
   ],
   "source": [
    "# Calculate psi\n",
    "psi.estimation <- mean(result)\n",
    "\n",
    "\n",
    "# Plot the convergence\n",
    "y1 <- cumsum(result.approx)/seq(along=result.approx)\n",
    "y2 <- cumsum(result)/seq(along=result)\n",
    "\n",
    "plot(y1, ylim=range(c(y1,y2)))\n",
    "par(new=TRUE)\n",
    "plot(y2, ylim=range(c(y1,y2)), col=\"red\", axes = FALSE, xlab = \"\", ylab = \"\")\n",
    "\n",
    "# Print the outcome\n",
    "print(paste('We have approximated psi as', psi.approx, \n",
    "            'our estimate is', psi.estimation, \n",
    "            'which is a difference of:', abs(psi.approx - psi.estimation)))\n"
   ]
  },
  {
   "cell_type": "markdown",
   "metadata": {},
   "source": [
    "These results were estimated using the discrete SuperLearner."
   ]
  }
 ],
 "metadata": {
  "kernelspec": {
   "display_name": "R",
   "language": "R",
   "name": "ir"
  },
  "language_info": {
   "codemirror_mode": "r",
   "file_extension": ".r",
   "mimetype": "text/x-r-source",
   "name": "R",
   "pygments_lexer": "r",
   "version": "3.3.2"
  }
 },
 "nbformat": 4,
 "nbformat_minor": 2
}
