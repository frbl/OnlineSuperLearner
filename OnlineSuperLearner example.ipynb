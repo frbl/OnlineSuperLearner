{
 "cells": [
  {
   "cell_type": "markdown",
   "metadata": {
    "deletable": true,
    "editable": true
   },
   "source": [
    "# OnlineSuperLearner example project\n",
    "In this notebook we present a very basic example of how the OnlineSuperLearner (OSL) can be used. The goal of OSL is to be able to make predictions and do inference on time series data. In order to do so it estimates a density function for each of the covariates, the treatment variables and the outcome. After these densities are fitted, OSL can simulate interventions and determine the outcome given such an intervention.\n",
    "\n",
    "## This notebook\n",
    "In this notebook we will present the steps needed to perform a basic simulation. We will start by installing and configurint the package. Then we approximate our true parameter of interest given the simulation data. This approximated truth is used as ground truth for the rest of the algorithm. In the next step we estimate the densities and run an iteritative sampling method, in which we apply the same treatment as in the approximation step. If everything goes well, both parameters should be approximately the same. Note that this notebook does not apply any TMLE.\n",
    "\n",
    "## Install dependencies\n",
    "Before anything else we need to install several dependencies. Most dependencies are used by OSL and some are used by TMLEnet. "
   ]
  },
  {
   "cell_type": "code",
   "execution_count": 2,
   "metadata": {
    "collapsed": true
   },
   "outputs": [],
   "source": [
    "# Define the packages we want to install\n",
    "# Set the can mirror\n",
    "options(repos = structure(c(CRAN = \"http://cran-mirror.cs.uu.nl/\")))\n",
    "\n",
    "gh_packages <- list(\n",
    "  list(repo = \"frbl/tmlenet\", branch = 'fb-add-update'),\n",
    "  list(repo = \"frbl/OnlineSuperLearner\", branch = 'master')\n",
    ")\n",
    "\n",
    "packages <- c(\"devtools\",\"mockery\",\"RCurl\",\"jsonlite\",\"data.table\",\"R.utils\",\"R.methodsS3\",\"R.oo\",\"simcausal\",\n",
    "              \"xgboost\",\"nnls\",\"sgd\",\"dplyr\",\"magrittr\",\"optimr\",\"nloptr\",\"purrr\",\"doParallel\",\"foreach\",\"matrixStats\",\n",
    "              \"digest\",\"future\")"
   ]
  },
  {
   "cell_type": "code",
   "execution_count": null,
   "metadata": {
    "collapsed": false,
    "deletable": true,
    "editable": true
   },
   "outputs": [],
   "source": [
    "install <- function(packages, installfunc, ...){\n",
    "  new.packages <- packages[!(packages %in% installed.packages()[, \"Package\"])]\n",
    "  if (length(new.packages))\n",
    "    installfunc(new.packages, ...)\n",
    "  update.packages(lib.loc = Sys.getenv(\"R_LIBS_USER\"), ask = FALSE)\n",
    "}\n",
    "\n",
    "install(packages, install.packages)\n",
    "lapply(gh_packages, function(pkg) install(pkg$repo, devtools::install_github, ref = pkg$branch))\n",
    "\n",
    "# Specific packages\n",
    "# Finds and remove any previously installed H2O packages for R.\n",
    "if (\"package:h2o\" %in% search()) { detach(\"package:h2o\", unload=TRUE) }\n",
    "if (\"h2o\" %in% rownames(installed.packages())) { remove.packages(\"h2o\") }\n",
    "\n",
    "# Next, we download, install and initialize the H2O package for R.\n",
    "#install.packages(\"h2o\", repos=(c(\"http://s3.amazonaws.com/h2o-release/h2o/rel-kahan/5/R\", getOption(\"repos\"))))\n",
    "install.packages(\"h2o\", type=\"source\", repos=(c(\"http://h2o-release.s3.amazonaws.com/h2o/rel-tverberg/2/R\")))"
   ]
  },
  {
   "cell_type": "markdown",
   "metadata": {},
   "source": [
    "And then load the actual packages"
   ]
  },
  {
   "cell_type": "code",
   "execution_count": 3,
   "metadata": {
    "collapsed": false
   },
   "outputs": [
    {
     "name": "stderr",
     "output_type": "stream",
     "text": [
      "Loading required package: tmlenet\n",
      "tmlenet\n",
      "The tmlenet package is still in beta testing. Interpret results with caution.\n",
      "Loading required package: OnlineSuperLearner\n",
      "Loading required package: R6\n",
      "Loading required package: devtools\n",
      "Loading required package: mockery\n",
      "Loading required package: RCurl\n",
      "Loading required package: bitops\n",
      "Loading required package: jsonlite\n",
      "Loading required package: data.table\n",
      "Loading required package: R.utils\n",
      "Loading required package: R.oo\n",
      "Loading required package: R.methodsS3\n",
      "R.methodsS3 v1.7.1 (2016-02-15) successfully loaded. See ?R.methodsS3 for help.\n",
      "R.oo v1.21.0 (2016-10-30) successfully loaded. See ?R.oo for help.\n",
      "\n",
      "Attaching package: ‘R.oo’\n",
      "\n",
      "The following object is masked from ‘package:RCurl’:\n",
      "\n",
      "    clone\n",
      "\n",
      "The following objects are masked from ‘package:devtools’:\n",
      "\n",
      "    check, unload\n",
      "\n",
      "The following objects are masked from ‘package:methods’:\n",
      "\n",
      "    getClasses, getMethods\n",
      "\n",
      "The following objects are masked from ‘package:base’:\n",
      "\n",
      "    attach, detach, gc, load, save\n",
      "\n",
      "R.utils v2.5.0 (2016-11-07) successfully loaded. See ?R.utils for help.\n",
      "\n",
      "Attaching package: ‘R.utils’\n",
      "\n",
      "The following object is masked from ‘package:jsonlite’:\n",
      "\n",
      "    validate\n",
      "\n",
      "The following object is masked from ‘package:RCurl’:\n",
      "\n",
      "    reset\n",
      "\n",
      "The following object is masked from ‘package:utils’:\n",
      "\n",
      "    timestamp\n",
      "\n",
      "The following objects are masked from ‘package:base’:\n",
      "\n",
      "    cat, commandArgs, getOption, inherits, isOpen, parse, warnings\n",
      "\n",
      "Loading required package: simcausal\n",
      "Loading required package: xgboost\n",
      "Loading required package: nnls\n",
      "Loading required package: sgd\n",
      "Loading required package: dplyr\n",
      "------------------------------------------------------------------------------\n",
      "data.table + dplyr code now lives in dtplyr.\n",
      "Please library(dtplyr)!\n",
      "------------------------------------------------------------------------------\n",
      "\n",
      "Attaching package: ‘dplyr’\n",
      "\n",
      "The following object is masked from ‘package:xgboost’:\n",
      "\n",
      "    slice\n",
      "\n",
      "The following objects are masked from ‘package:data.table’:\n",
      "\n",
      "    between, first, last\n",
      "\n",
      "The following objects are masked from ‘package:stats’:\n",
      "\n",
      "    filter, lag\n",
      "\n",
      "The following objects are masked from ‘package:base’:\n",
      "\n",
      "    intersect, setdiff, setequal, union\n",
      "\n",
      "Loading required package: magrittr\n",
      "\n",
      "Attaching package: ‘magrittr’\n",
      "\n",
      "The following object is masked from ‘package:R.utils’:\n",
      "\n",
      "    extract\n",
      "\n",
      "The following object is masked from ‘package:R.oo’:\n",
      "\n",
      "    equals\n",
      "\n",
      "Loading required package: optimr\n",
      "Loading required package: nloptr\n",
      "Loading required package: purrr\n",
      "\n",
      "Attaching package: ‘purrr’\n",
      "\n",
      "The following object is masked from ‘package:magrittr’:\n",
      "\n",
      "    set_names\n",
      "\n",
      "The following objects are masked from ‘package:dplyr’:\n",
      "\n",
      "    contains, order_by\n",
      "\n",
      "The following object is masked from ‘package:data.table’:\n",
      "\n",
      "    transpose\n",
      "\n",
      "The following object is masked from ‘package:jsonlite’:\n",
      "\n",
      "    flatten\n",
      "\n",
      "Loading required package: doParallel\n",
      "Loading required package: foreach\n",
      "\n",
      "Attaching package: ‘foreach’\n",
      "\n",
      "The following objects are masked from ‘package:purrr’:\n",
      "\n",
      "    accumulate, when\n",
      "\n",
      "Loading required package: iterators\n",
      "Loading required package: parallel\n",
      "Loading required package: matrixStats\n",
      "\n",
      "Attaching package: ‘matrixStats’\n",
      "\n",
      "The following object is masked from ‘package:dplyr’:\n",
      "\n",
      "    count\n",
      "\n",
      "Loading required package: digest\n",
      "Loading required package: future\n"
     ]
    }
   ],
   "source": [
    "# Set a seed and genereal helpers, load the packages\n",
    "set.seed(12345)\n",
    "expit = plogis\n",
    "logit = qlogis\n",
    "\n",
    "packages <- c('tmlenet', 'OnlineSuperLearner', packages)\n",
    "invisible(lapply(packages, require, character.only = TRUE))"
   ]
  },
  {
   "cell_type": "markdown",
   "metadata": {
    "deletable": true,
    "editable": true
   },
   "source": [
    "## Configuration\n",
    "The next step is to configure several parameters for the estimation procedure itself."
   ]
  },
  {
   "cell_type": "code",
   "execution_count": 4,
   "metadata": {
    "collapsed": false,
    "deletable": true,
    "editable": true
   },
   "outputs": [],
   "source": [
    "# Do logging?\n",
    "log <- FALSE\n",
    "\n",
    "# Should TMLE fit our estimators in parallel?\n",
    "tmlenet_options(parfit=FALSE)\n",
    "\n",
    "# How many cores would we like to use?\n",
    "cores = parallel::detectCores()\n",
    "\n",
    "# Number of items we have in our testset\n",
    "training_set_size <- 200\n",
    "\n",
    "# Number of iterations we want to use (this is for the online training part)\n",
    "max_iterations = 3\n",
    "\n",
    "# The calculator for estimating the risk\n",
    "cv_risk_calculator <- OnlineSuperLearner:::CrossValidationRiskCalculator$new()"
   ]
  },
  {
   "cell_type": "markdown",
   "metadata": {
    "deletable": true,
    "editable": true
   },
   "source": [
    "Now the basic configuration for the OSL is done, we can go ahead and specify which intervention we are interested in. Interventions are specified as an R `list` with three elements:\n",
    "1. _when_: When should the intervention be done? (i.e., at what time $t$)\n",
    "2. _what_: What should be the intervention we are doing? (e.g., set treatment to $x \\in \\{0,1\\}$)\n",
    "3. _variable_: Which variable do we consider the intervention variable? ($A$ in the TL literature)"
   ]
  },
  {
   "cell_type": "code",
   "execution_count": 5,
   "metadata": {
    "collapsed": true,
    "deletable": true,
    "editable": true
   },
   "outputs": [],
   "source": [
    "# Number of iterations for approximation of the true parameter of interest\n",
    "B <- 1e3\n",
    "\n",
    "# The intervention we are interested in\n",
    "intervention  <- list(when = c(2), what = c(0), variable ='A')\n",
    "\n",
    "# The time of the outcome\n",
    "tau = 2"
   ]
  },
  {
   "cell_type": "markdown",
   "metadata": {
    "deletable": true,
    "editable": true
   },
   "source": [
    "## Simulation\n",
    "In order to have some data to use for testing, we have to create a simulator. This simulator uses the simulation scheme as defined in _Blaauw, Chambaz and van der Laan, in prep._. For this scheme we can define various things for each of the data generating systems:\n",
    "1. _stochMech_: the mechanism we use to generate the observations\n",
    "2. _param_: the number of steps $t$ the mechanism is connected to the past\n",
    "3. _rgen_: the mechanism for generating the observations"
   ]
  },
  {
   "cell_type": "code",
   "execution_count": 6,
   "metadata": {
    "collapsed": true,
    "deletable": true,
    "editable": true
   },
   "outputs": [],
   "source": [
    "# Our covariate definition\n",
    "llW <- list(\n",
    "  stochMech=function(numberOfBlocks) {\n",
    "    rnorm(numberOfBlocks, 0, 10)\n",
    "  },\n",
    "  param=c(0, 0.5, -0.25, 0.1),\n",
    "  rgen=identity\n",
    ")\n",
    "\n",
    "# The treatment mechanism\n",
    "llA <- list(\n",
    "  stochMech=function(ww) {\n",
    "    rbinom(length(ww), 1, expit(ww))\n",
    "  },\n",
    "  param=c(-0.1, 0.1, 0.25),\n",
    "  rgen=function(xx, delta=0.05){\n",
    "    probability <- delta+(1-2*delta)*expit(xx)\n",
    "    rbinom(length(xx), 1, probability)\n",
    "  }\n",
    ")\n",
    "\n",
    "# The outcome variable\n",
    "llY <- list(\n",
    "  rgen={function(AW){\n",
    "    aa <- AW[, \"A\"]\n",
    "    ww <- AW[, grep(\"[^A]\", colnames(AW))]\n",
    "    mu <- aa*(0.4-0.2*sin(ww)+0.05*ww) + (1-aa)*(0.2+0.1*cos(ww)-0.03*ww)\n",
    "    #mu <- aa*(0.9) + (1-aa)*(0.3)\n",
    "    rnorm(length(mu), mu, sd=0.1)}\n",
    "  }\n",
    ")"
   ]
  },
  {
   "cell_type": "markdown",
   "metadata": {
    "deletable": true,
    "editable": true
   },
   "source": [
    "Now, using these mechanisms we need to setup our simulator. First we define the 'truth', or in our case, an approximation of the true parameter of interest. This parameter specifies what we expect to receive if we would run the earlier specified intervention"
   ]
  },
  {
   "cell_type": "code",
   "execution_count": 7,
   "metadata": {
    "collapsed": false,
    "deletable": true,
    "editable": true
   },
   "outputs": [
    {
     "name": "stdout",
     "output_type": "stream",
     "text": [
      "[1] 0.1944428\n"
     ]
    }
   ],
   "source": [
    "# Create the simulator\n",
    "simulator  <- OnlineSuperLearner::Simulator.GAD$new()\n",
    "\n",
    "\n",
    "# Approximate the truth under the treatment\n",
    "result.approx <- mclapply(seq(B), function(bb) {\n",
    "  when <- max(intervention$when)\n",
    "  data.int <- simulator$simulateWAY(tau, qw = llW, ga = llA, Qy = llY,\n",
    "                                    intervention = intervention, verbose = log)\n",
    "  data.int$Y[tau]\n",
    "}, mc.cores = cores) %>%\n",
    "  unlist\n",
    "\n",
    "psi.approx <- mean(result.approx)\n",
    "\n",
    "print(psi.approx)"
   ]
  },
  {
   "cell_type": "markdown",
   "metadata": {
    "deletable": true,
    "editable": true
   },
   "source": [
    "The next step is to use the mechanisms to create a test set of data. Note that we are wrapping our data in a `Data.Static` object. By doing so, we can easily swap this static dataframe out for a stream of incoming data."
   ]
  },
  {
   "cell_type": "code",
   "execution_count": 8,
   "metadata": {
    "collapsed": false,
    "deletable": true,
    "editable": true
   },
   "outputs": [],
   "source": [
    "data.train <- simulator$simulateWAY(training_set_size + B, qw=llW, ga=llA, Qy=llY, verbose=log)\n",
    "data.train.static <- OnlineSuperLearner::Data.Static$new(dataset = data.train)"
   ]
  },
  {
   "cell_type": "markdown",
   "metadata": {
    "deletable": true,
    "editable": true
   },
   "source": [
    "## The OnlineSuperLearner initialization\n",
    "Now everything is set-up, we can start our super learner procedure. First let's choose a set of estimators we wish to include in our learner. Note that OSL automatically creates a grid of learners based on te hyperparameters provided in the setup."
   ]
  },
  {
   "cell_type": "code",
   "execution_count": 9,
   "metadata": {
    "collapsed": true,
    "deletable": true,
    "editable": true
   },
   "outputs": [],
   "source": [
    "algos <- list()\n",
    "#algos <- list(list(description='ML.H2O.randomForest-1tree',\n",
    "                      #algorithm = 'ML.H2O.randomForest',\n",
    "                      #params = list(ntrees = 1)))\n",
    "\n",
    "#algos <- append(algos, list(list(description='ML.H2O.randomForest-50trees',\n",
    "                      #algorithm = 'ML.H2O.randomForest',\n",
    "                      #params = list(ntrees = 50))))\n",
    "\n",
    "#algos <- append(algos, list(list(description='ML.H2O.gbm',\n",
    "                      #algorithm = 'ML.H2O.gbm')))\n",
    "\n",
    "#algos <- append(algos, list(list(algorithm = 'ML.XGBoost',\n",
    "                      #algorithm_params = list(alpha = 0),\n",
    "                      #params = list(nbins = c(6,40), online = TRUE))))\n",
    "\n",
    "#algos <- append(algos, list(list(algorithm = 'ML.H2O.gbm',\n",
    "                      #algorithm_params = list(ntrees=c(10,20), min_rows=1),\n",
    "                      #params = list(nbins = c(6), online = TRUE))))\n",
    "\n",
    "#algos <- append(algos, list(list(algorithm = 'ML.H2O.randomForest',\n",
    "                      #algorithm_params = list(ntrees=c(10,20)),\n",
    "                      #params = list(nbins = c(6), online = TRUE))))\n",
    "\n",
    "algos <- append(algos, list(list(algorithm = 'tmlenet::speedglmR6',\n",
    "                      #algorithm_params = list(),\n",
    "                      params = list(nbins = c(3,4, 5), online = FALSE))))\n",
    "\n",
    "#algos <- append(algos, list(list(algorithm = 'tmlenet::glmR6',\n",
    "                      ##algorithm_params = list(),\n",
    "                      #params = list(nbins = c(16, 20, 24, 30, 34, 40), online = FALSE))))"
   ]
  },
  {
   "cell_type": "markdown",
   "metadata": {
    "deletable": true,
    "editable": true
   },
   "source": [
    "We use the loglikelihood loss function as general loss function. In order to do so, we should make sure that we bound all variables between $0$ and $1$. We create bounds for all variables in order to do so."
   ]
  },
  {
   "cell_type": "code",
   "execution_count": 10,
   "metadata": {
    "collapsed": false,
    "deletable": true,
    "editable": true
   },
   "outputs": [],
   "source": [
    "bounds <- OnlineSuperLearner:::SummaryMeasureGenerator.generate_bounds(data.train)"
   ]
  },
  {
   "cell_type": "markdown",
   "metadata": {
    "deletable": true,
    "editable": true
   },
   "source": [
    "The next step is to define our random variables. In this example we only consider the default variables $W$, $A$, and $Y$. Each of them is univariate, and the $A$ variable is a binary variable. Currently we only support the variable at time $t$ ($W$, $A$, or $Y$) and a lagged version therof ($*\\_lag\\_*$, e.g., $A\\_lag\\_1$):"
   ]
  },
  {
   "cell_type": "code",
   "execution_count": 11,
   "metadata": {
    "collapsed": true,
    "deletable": true,
    "editable": true
   },
   "outputs": [],
   "source": [
    "W <- RandomVariable$new(formula = Y ~ A + W, family = 'gaussian')\n",
    "A <- RandomVariable$new(formula = A ~ W + Y_lag_1 + A_lag_1 + W_lag_1, family = 'binomial')\n",
    "Y <- RandomVariable$new(formula = W ~ Y_lag_1 + A_lag_1 +  W_lag_1 + Y_lag_2, family = 'gaussian')\n",
    "randomVariables <- c(W, A, Y)"
   ]
  },
  {
   "cell_type": "markdown",
   "metadata": {
    "deletable": true,
    "editable": true
   },
   "source": [
    "Then we need to create a system that will define our summary measure generator. This step is a bit cumbersome and will be removed in later versions. The idea is that given the definition provided in the previous code block, we have to generate several variables (e.g. the lags). In order to do so, we use a SummaryMeasureGenerator, which will parse these formulae and create the necessary summary measures."
   ]
  },
  {
   "cell_type": "code",
   "execution_count": 12,
   "metadata": {
    "collapsed": true,
    "deletable": true,
    "editable": true
   },
   "outputs": [],
   "source": [
    "smg_factory <- SMGFactory$new()\n",
    "summaryMeasureGenerator <- smg_factory$fabricate(randomVariables, bounds = bounds)"
   ]
  },
  {
   "cell_type": "markdown",
   "metadata": {
    "deletable": true,
    "editable": true
   },
   "source": [
    "The last step is to actually run and fit our SuperLearner and calculate its CV risk:"
   ]
  },
  {
   "cell_type": "code",
   "execution_count": 13,
   "metadata": {
    "collapsed": false,
    "deletable": true,
    "editable": true
   },
   "outputs": [
    {
     "name": "stderr",
     "output_type": "stream",
     "text": [
      "Warning message in chol.default(B, pivot = TRUE):\n",
      "“the matrix is either rank-deficient or indefinite”Warning message in chol.default(B, pivot = TRUE):\n",
      "“the matrix is either rank-deficient or indefinite”Warning message in chol.default(B, pivot = TRUE):\n",
      "“the matrix is either rank-deficient or indefinite”Warning message in chol.default(B, pivot = TRUE):\n",
      "“the matrix is either rank-deficient or indefinite”Warning message in chol.default(B, pivot = TRUE):\n",
      "“the matrix is either rank-deficient or indefinite”Warning message in private$perform_optimization(weights = private$weights, epsilon = private$epsilon, :\n",
      "“\n",
      " Trying to start from the border, so doing nothing... \n",
      "”Warning message in chol.default(B, pivot = TRUE):\n",
      "“the matrix is either rank-deficient or indefinite”Warning message in chol.default(B, pivot = TRUE):\n",
      "“the matrix is either rank-deficient or indefinite”Warning message in private$perform_optimization(weights = private$weights, epsilon = private$epsilon, :\n",
      "“\n",
      " Trying to start from the border, so doing nothing... \n",
      "”Warning message in chol.default(B, pivot = TRUE):\n",
      "“the matrix is either rank-deficient or indefinite”Warning message in chol.default(B, pivot = TRUE):\n",
      "“the matrix is either rank-deficient or indefinite”Warning message in private$perform_optimization(weights = private$weights, epsilon = private$epsilon, :\n",
      "“\n",
      " Trying to start from the border, so doing nothing... \n",
      "”"
     ]
    }
   ],
   "source": [
    "osl  <- OnlineSuperLearner$new(algos, summaryMeasureGenerator = summaryMeasureGenerator, verbose = log)\n",
    "risk <- osl$fit(data.train.static, randomVariables = randomVariables,\n",
    "                initial_data_size = training_set_size / 2,\n",
    "                max_iterations = max_iterations,\n",
    "                mini_batch_size = (training_set_size / 2) / max_iterations)"
   ]
  },
  {
   "cell_type": "markdown",
   "metadata": {
    "deletable": true,
    "editable": true
   },
   "source": [
    "In order to see how well it can estimate we sample from our estimates:"
   ]
  },
  {
   "cell_type": "code",
   "execution_count": 14,
   "metadata": {
    "collapsed": false
   },
   "outputs": [
    {
     "name": "stderr",
     "output_type": "stream",
     "text": [
      "Warning message in data.table::data.table(...):\n",
      "“Item 1 is of size 962 but maximum size is 964 (recycled leaving remainder of 2 items)”"
     ]
    }
   ],
   "source": [
    "datas <- summaryMeasureGenerator$getNext(n = B)\n",
    "result <- mclapply(seq(B), \n",
    "  function(i) {\n",
    "    osl$sample_iteratively(data = datas[i,],\n",
    "                           randomVariables = randomVariables,\n",
    "                           intervention = intervention,\n",
    "                           tau = tau)\n",
    "  }, mc.cores=cores) %>%\n",
    "  lapply(., function(x) { tail(x, 1)$Y }) %>%\n",
    "  unlist"
   ]
  },
  {
   "cell_type": "markdown",
   "metadata": {},
   "source": [
    "And to see the results, we plot them:"
   ]
  },
  {
   "cell_type": "code",
   "execution_count": 20,
   "metadata": {
    "collapsed": false,
    "deletable": true,
    "editable": true
   },
   "outputs": [
    {
     "name": "stdout",
     "output_type": "stream",
     "text": [
      "[1] \"We have approximated psi as 0.194442821945586 our estimate is 0.322414455187017 which is a difference of: 0.127971633241431\"\n"
     ]
    },
    {
     "data": {
      "image/png": "[encoded data removed]",
      "text/plain": [
       "plot without title"
      ]
     },
     "metadata": {},
     "output_type": "display_data"
    }
   ],
   "source": [
    "# Calculate psi\n",
    "psi.estimation <- mean(result)\n",
    "\n",
    "# Plot the convergence\n",
    "y1 <- cumsum(result.approx)/seq(along=result.approx)\n",
    "y2 <- cumsum(result)/seq(along=result)\n",
    "\n",
    "plot(y1, ylim=range(c(y1,y2)))\n",
    "par(new=TRUE)\n",
    "plot(y2, ylim=range(c(y1,y2)), col=\"red\", axes = FALSE, xlab = \"\", ylab = \"\")\n",
    "\n",
    "# Print the outcome\n",
    "print(paste('We have approximated psi as', psi.approx, \n",
    "            'our estimate is', psi.estimation, \n",
    "            'which is a difference of:', abs(psi.approx - psi.estimation)))"
   ]
  },
  {
   "cell_type": "code",
   "execution_count": null,
   "metadata": {
    "collapsed": true
   },
   "outputs": [],
   "source": []
  }
 ],
 "metadata": {
  "kernelspec": {
   "display_name": "R",
   "language": "R",
   "name": "ir"
  }
 },
 "nbformat": 4,
 "nbformat_minor": 2
}
