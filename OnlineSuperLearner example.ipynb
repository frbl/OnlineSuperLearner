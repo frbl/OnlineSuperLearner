{
 "cells": [
  {
   "cell_type": "markdown",
   "metadata": {
    "deletable": true,
    "editable": true
   },
   "source": [
    "# OnlineSuperLearner example project\n",
    "__General introduction__\n",
    "\n",
    "## Install dependencies\n",
    "Before anything else we need to install several dependencies. Most dependencies are used by OnlineSuperLearner (OSL) and some are used by TMLEnet. "
   ]
  },
  {
   "cell_type": "code",
   "execution_count": 35,
   "metadata": {
    "collapsed": false,
    "deletable": true,
    "editable": true
   },
   "outputs": [
    {
     "name": "stderr",
     "output_type": "stream",
     "text": [
      "Skipping install of 'tmlenet' from a github remote, the SHA1 (18bce2de) has not changed since last install.\n",
      "  Use `force = TRUE` to force installation\n",
      "Skipping install of 'OnlineSuperLearner' from a github remote, the SHA1 (a040dbc9) has not changed since last install.\n",
      "  Use `force = TRUE` to force installation\n"
     ]
    },
    {
     "data": {
      "text/html": [
       "<ol>\n",
       "\t<li>NULL</li>\n",
       "\t<li>NULL</li>\n",
       "</ol>\n"
      ],
      "text/latex": [
       "\\begin{enumerate}\n",
       "\\item NULL\n",
       "\\item NULL\n",
       "\\end{enumerate}\n"
      ],
      "text/markdown": [
       "1. NULL\n",
       "2. NULL\n",
       "\n",
       "\n"
      ],
      "text/plain": [
       "[[1]]\n",
       "NULL\n",
       "\n",
       "[[2]]\n",
       "NULL\n"
      ]
     },
     "metadata": {},
     "output_type": "display_data"
    },
    {
     "name": "stderr",
     "output_type": "stream",
     "text": [
      "Installing package into ‘/usr/local/spark-2.1.0-bin-hadoop2.7/R/lib’\n",
      "(as ‘lib’ is unspecified)\n"
     ]
    }
   ],
   "source": [
    "# Set the can mirror\n",
    "options(repos = structure(c(CRAN = \"http://cran-mirror.cs.uu.nl/\")))\n",
    "\n",
    "# Define the packages we want to install\n",
    "packages <- c(\"devtools\",\"mockery\",\"RCurl\",\"jsonlite\",\"data.table\",\"R.utils\",\"R.methodsS3\",\"R.oo\",\"simcausal\",\n",
    "              \"xgboost\",\"nnls\",\"sgd\",\"dplyr\",\"magrittr\",\"optimr\",\"nloptr\",\"purrr\",\"doParallel\",\"foreach\",\"matrixStats\",\n",
    "              \"digest\",\"future\")\n",
    "\n",
    "gh_packages <- list(\n",
    "  list(repo = \"frbl/tmlenet\", branch = 'fb-add-update'),\n",
    "  list(repo = \"frbl/OnlineSuperLearner\", branch = 'master')\n",
    ")\n",
    "\n",
    "install <- function(packages, installfunc, ...){\n",
    "  new.packages <- packages[!(packages %in% installed.packages()[, \"Package\"])]\n",
    "  if (length(new.packages))\n",
    "    installfunc(new.packages, ...)\n",
    "  update.packages(lib.loc = Sys.getenv(\"R_LIBS_USER\"), ask = FALSE)\n",
    "}\n",
    "\n",
    "install(packages, install.packages)\n",
    "lapply(gh_packages, function(pkg) install(pkg$repo, devtools::install_github, ref = pkg$branch))\n",
    "\n",
    "# Specific packages\n",
    "# Finds and remove any previously installed H2O packages for R.\n",
    "if (\"package:h2o\" %in% search()) { detach(\"package:h2o\", unload=TRUE) }\n",
    "if (\"h2o\" %in% rownames(installed.packages())) { remove.packages(\"h2o\") }\n",
    "\n",
    "# Next, we download, install and initialize the H2O package for R.\n",
    "#install.packages(\"h2o\", repos=(c(\"http://s3.amazonaws.com/h2o-release/h2o/rel-kahan/5/R\", getOption(\"repos\"))))\n",
    "install.packages(\"h2o\", type=\"source\", repos=(c(\"http://h2o-release.s3.amazonaws.com/h2o/rel-tverberg/2/R\")))"
   ]
  },
  {
   "cell_type": "markdown",
   "metadata": {},
   "source": [
    "And then load the actual packages"
   ]
  },
  {
   "cell_type": "code",
   "execution_count": 37,
   "metadata": {
    "collapsed": false
   },
   "outputs": [
    {
     "name": "stderr",
     "output_type": "stream",
     "text": [
      "Loading required package: OnlineSuperLearner\n",
      "Loading required package: R6\n",
      "Loading required package: OnlineSuperLearner\n",
      "Loading required package: R6\n",
      "Loading required package: digest\n"
     ]
    }
   ],
   "source": [
    "# Set a seed and genereal helpers, load the packages\n",
    "set.seed(12345)\n",
    "expit = plogis\n",
    "logit = qlogis\n",
    "\n",
    "packages <- c('tmlenet', 'OnlineSuperLearner', packages)\n",
    "invisible(lapply(packages, require, character.only = TRUE))"
   ]
  },
  {
   "cell_type": "markdown",
   "metadata": {
    "deletable": true,
    "editable": true
   },
   "source": [
    "## Configuration\n",
    "The next step is to configure several parameters for the estimation procedure itself."
   ]
  },
  {
   "cell_type": "code",
   "execution_count": 39,
   "metadata": {
    "collapsed": false,
    "deletable": true,
    "editable": true
   },
   "outputs": [],
   "source": [
    "# Do logging?\n",
    "log <- FALSE\n",
    "\n",
    "# Should TMLE fit our estimators in parallel?\n",
    "tmlenet_options(parfit=FALSE)\n",
    "\n",
    "# How many cores would we like to use?\n",
    "cores = parallel::detectCores()\n",
    "\n",
    "# Number of items we have in our testset\n",
    "training_set_size <- 200\n",
    "\n",
    "# Number of iterations we want to use (this is for the online training part)\n",
    "max_iterations = 3\n",
    "\n",
    "# The calculator for estimating the risk\n",
    "cv_risk_calculator <- OnlineSuperLearner:::CrossValidationRiskCalculator$new()"
   ]
  },
  {
   "cell_type": "markdown",
   "metadata": {
    "deletable": true,
    "editable": true
   },
   "source": [
    "Now the basic configuration for the OSL is done, we can go ahead and specify which intervention we are interested in. Interventions are specified as an R `list` with three elements:\n",
    "1. _when_: When should the intervention be done? (i.e., at what time $t$)\n",
    "2. _what_: What should be the intervention we are doing? (e.g., set treatment to $x \\in \\{0,1\\}$)\n",
    "3. _variable_: Which variable do we consider the intervention variable? ($A$ in the TL literature)"
   ]
  },
  {
   "cell_type": "code",
   "execution_count": 40,
   "metadata": {
    "collapsed": true,
    "deletable": true,
    "editable": true
   },
   "outputs": [],
   "source": [
    "# Number of iterations for approximation of the true parameter of interest\n",
    "B <- 1e2\n",
    "\n",
    "# The intervention we are interested in\n",
    "intervention  <- list(when = c(2), what = c(0), variable ='A')\n",
    "\n",
    "# The time of the outcome\n",
    "tau = 2"
   ]
  },
  {
   "cell_type": "markdown",
   "metadata": {
    "deletable": true,
    "editable": true
   },
   "source": [
    "## Simulation\n",
    "In order to have some data to use for testing, we have to create a simulator. This simulator uses the simulation scheme as defined in _Blaauw, Chambaz and van der Laan, in prep._. For this scheme we can define various things for each of the data generating systems:\n",
    "1. _stochMech_: the mechanism we use to generate the observations\n",
    "2. _param_: the number of steps $t$ the mechanism is connected to the past\n",
    "3. _rgen_: the mechanism for generating the observations"
   ]
  },
  {
   "cell_type": "code",
   "execution_count": 41,
   "metadata": {
    "collapsed": true,
    "deletable": true,
    "editable": true
   },
   "outputs": [],
   "source": [
    "# Our covariate definition\n",
    "llW <- list(\n",
    "  stochMech=function(numberOfBlocks) {\n",
    "    rnorm(numberOfBlocks, 0, 10)\n",
    "  },\n",
    "  param=c(0, 0.5, -0.25, 0.1),\n",
    "  rgen=identity\n",
    ")\n",
    "\n",
    "# The treatment mechanism\n",
    "llA <- list(\n",
    "  stochMech=function(ww) {\n",
    "    rbinom(length(ww), 1, expit(ww))\n",
    "  },\n",
    "  param=c(-0.1, 0.1, 0.25),\n",
    "  rgen=function(xx, delta=0.05){\n",
    "    probability <- delta+(1-2*delta)*expit(xx)\n",
    "    rbinom(length(xx), 1, probability)\n",
    "  }\n",
    ")\n",
    "\n",
    "# The outcome variable\n",
    "llY <- list(\n",
    "  rgen={function(AW){\n",
    "    aa <- AW[, \"A\"]\n",
    "    ww <- AW[, grep(\"[^A]\", colnames(AW))]\n",
    "    mu <- aa*(0.4-0.2*sin(ww)+0.05*ww) + (1-aa)*(0.2+0.1*cos(ww)-0.03*ww)\n",
    "    #mu <- aa*(0.9) + (1-aa)*(0.3)\n",
    "    rnorm(length(mu), mu, sd=0.1)}\n",
    "  }\n",
    ")"
   ]
  },
  {
   "cell_type": "markdown",
   "metadata": {
    "deletable": true,
    "editable": true
   },
   "source": [
    "Now, using these mechanisms we need to setup our simulator. First we define the 'truth', or in our case, an approximation of the true parameter of interest. This parameter specifies what we expect to receive if we would run the earlier specified intervention"
   ]
  },
  {
   "cell_type": "code",
   "execution_count": 43,
   "metadata": {
    "collapsed": false,
    "deletable": true,
    "editable": true
   },
   "outputs": [
    {
     "name": "stdout",
     "output_type": "stream",
     "text": [
      "[1] 0.1998373\n"
     ]
    }
   ],
   "source": [
    "# Create the simulator\n",
    "simulator  <- OnlineSuperLearner::Simulator.GAD$new()\n",
    "\n",
    "\n",
    "# Approximate the truth under the treatment\n",
    "psi.approx <- mclapply(seq(B), function(bb) {\n",
    "  when <- max(intervention$when)\n",
    "  data.int <- simulator$simulateWAY(tau, qw = llW, ga = llA, Qy = llY,\n",
    "                                    intervention = intervention, verbose = log)\n",
    "  data.int$Y[tau]\n",
    "}, mc.cores = cores) %>%\n",
    "  unlist %>%\n",
    "  mean\n",
    "\n",
    "print(psi.approx)"
   ]
  },
  {
   "cell_type": "markdown",
   "metadata": {
    "deletable": true,
    "editable": true
   },
   "source": [
    "The next step is to use the mechanisms to create a test set of data. Note that we are wrapping our data in a `Data.Static` object. By doing so, we can easily swap this static dataframe out for a stream of incoming data."
   ]
  },
  {
   "cell_type": "code",
   "execution_count": 45,
   "metadata": {
    "collapsed": false,
    "deletable": true,
    "editable": true
   },
   "outputs": [],
   "source": [
    "data.train <- simulator$simulateWAY(training_set_size + B, qw=llW, ga=llA, Qy=llY, verbose=log) %>%\n",
    "  OnlineSuperLearner::Data.Static$new(dataset = .)"
   ]
  },
  {
   "cell_type": "markdown",
   "metadata": {
    "deletable": true,
    "editable": true
   },
   "source": [
    "## The OnlineSuperLearner initialization\n",
    "Now everything is set-up, we can start our super learner procedure. First let's choose a set of estimators we wish to include in our learner. Note that OSL automatically creates a grid of learners based on te hyperparameters provided in the setup."
   ]
  },
  {
   "cell_type": "code",
   "execution_count": 46,
   "metadata": {
    "collapsed": true,
    "deletable": true,
    "editable": true
   },
   "outputs": [],
   "source": [
    "algos <- list()\n",
    "#algos <- list(list(description='ML.H2O.randomForest-1tree',\n",
    "                      #algorithm = 'ML.H2O.randomForest',\n",
    "                      #params = list(ntrees = 1)))\n",
    "\n",
    "#algos <- append(algos, list(list(description='ML.H2O.randomForest-50trees',\n",
    "                      #algorithm = 'ML.H2O.randomForest',\n",
    "                      #params = list(ntrees = 50))))\n",
    "\n",
    "#algos <- append(algos, list(list(description='ML.H2O.gbm',\n",
    "                      #algorithm = 'ML.H2O.gbm')))\n",
    "\n",
    "#algos <- append(algos, list(list(algorithm = 'ML.XGBoost',\n",
    "                      #algorithm_params = list(alpha = 0),\n",
    "                      #params = list(nbins = c(6,40), online = TRUE))))\n",
    "\n",
    "#algos <- append(algos, list(list(algorithm = 'ML.H2O.gbm',\n",
    "                      #algorithm_params = list(ntrees=c(10,20), min_rows=1),\n",
    "                      #params = list(nbins = c(6), online = TRUE))))\n",
    "\n",
    "#algos <- append(algos, list(list(algorithm = 'ML.H2O.randomForest',\n",
    "                      #algorithm_params = list(ntrees=c(10,20)),\n",
    "                      #params = list(nbins = c(6), online = TRUE))))\n",
    "\n",
    "algos <- append(algos, list(list(algorithm = 'tmlenet::speedglmR6',\n",
    "                      #algorithm_params = list(),\n",
    "                      params = list(nbins = c(3,4, 5), online = FALSE))))\n",
    "\n",
    "#algos <- append(algos, list(list(algorithm = 'tmlenet::glmR6',\n",
    "                      ##algorithm_params = list(),\n",
    "                      #params = list(nbins = c(16, 20, 24, 30, 34, 40), online = FALSE))))"
   ]
  },
  {
   "cell_type": "markdown",
   "metadata": {
    "deletable": true,
    "editable": true
   },
   "source": [
    "We use the loglikelihood loss function as general loss function. In order to do so, we should make sure that we bound all variables between $0$ and $1$. We create bounds for all variables in order to do so."
   ]
  },
  {
   "cell_type": "code",
   "execution_count": 49,
   "metadata": {
    "collapsed": false,
    "deletable": true,
    "editable": true
   },
   "outputs": [
    {
     "ename": "ERROR",
     "evalue": "Error in get(name, envir = asNamespace(pkg), inherits = FALSE): object 'SummaryMeasureGenerator.generate_bounds' not found\n",
     "output_type": "error",
     "traceback": [
      "Error in get(name, envir = asNamespace(pkg), inherits = FALSE): object 'SummaryMeasureGenerator.generate_bounds' not found\nTraceback:\n",
      "1. OnlineSuperLearner:::SummaryMeasureGenerator.generate_bounds",
      "2. get(name, envir = asNamespace(pkg), inherits = FALSE)"
     ]
    }
   ],
   "source": [
    "bounds <- OnlineSuperLearner::SummaryMeasureGenerator.generate_bounds(data.train)"
   ]
  },
  {
   "cell_type": "markdown",
   "metadata": {
    "deletable": true,
    "editable": true
   },
   "source": [
    "The next step is to define our random variables. In this example we only consider the default variables $W$, $A$, and $Y$. Each of them is univariate, and the $A$ variable is a binary variable. Currently we only support the variable at time $t$ ($W$, $A$, or $Y$) and a lagged version therof ($*\\_lag\\_*$, e.g., $A\\_lag\\_1$):"
   ]
  },
  {
   "cell_type": "code",
   "execution_count": null,
   "metadata": {
    "collapsed": true,
    "deletable": true,
    "editable": true
   },
   "outputs": [],
   "source": [
    "W <- RandomVariable$new(formula = Y ~ A + W, family = 'gaussian')\n",
    "A <- RandomVariable$new(formula = A ~ W + Y_lag_1 + A_lag_1 + W_lag_1, family = 'binomial')\n",
    "Y <- RandomVariable$new(formula = W ~ Y_lag_1 + A_lag_1 +  W_lag_1 + Y_lag_2, family = 'gaussian')\n",
    "randomVariables <- c(W, A, Y)"
   ]
  },
  {
   "cell_type": "markdown",
   "metadata": {
    "deletable": true,
    "editable": true
   },
   "source": [
    "Then we need to create a system that will define our summary measure generator. This step is a bit cumbersome and will be removed in later versions. The idea is that given the definition provided in the previous code block, we have to generate several variables (e.g. the lags). In order to do so, we use a SummaryMeasureGenerator, which will parse these formulae and create the necessary summary measures."
   ]
  },
  {
   "cell_type": "code",
   "execution_count": null,
   "metadata": {
    "collapsed": true,
    "deletable": true,
    "editable": true
   },
   "outputs": [],
   "source": [
    "smg_factory <- SMGFactory$new()\n",
    "summaryMeasureGenerator <- smg_factory$fabricate(randomVariables, bounds = bounds)"
   ]
  },
  {
   "cell_type": "markdown",
   "metadata": {
    "deletable": true,
    "editable": true
   },
   "source": [
    "The last step is to actually run and fit our SuperLearner and calculate its CV risk:"
   ]
  },
  {
   "cell_type": "code",
   "execution_count": 7,
   "metadata": {
    "collapsed": false,
    "deletable": true,
    "editable": true
   },
   "outputs": [
    {
     "ename": "ERROR",
     "evalue": "Error in eval(expr, envir, enclos): object 'OnlineSuperLearner' not found\n",
     "output_type": "error",
     "traceback": [
      "Error in eval(expr, envir, enclos): object 'OnlineSuperLearner' not found\nTraceback:\n"
     ]
    }
   ],
   "source": [
    "osl  <- OnlineSuperLearner$new(algos, summaryMeasureGenerator = summaryMeasureGenerator, verbose = log)\n",
    "risk <- osl$fit(data.train, randomVariables = randomVariables,\n",
    "                initial_data_size = training_set_size / 2,\n",
    "                max_iterations = max_iterations,\n",
    "                mini_batch_size = (training_set_size / 2) / max_iterations)"
   ]
  },
  {
   "cell_type": "markdown",
   "metadata": {
    "deletable": true,
    "editable": true
   },
   "source": [
    "In order to see how well it can estimate "
   ]
  },
  {
   "cell_type": "code",
   "execution_count": null,
   "metadata": {
    "collapsed": true,
    "deletable": true,
    "editable": true
   },
   "outputs": [],
   "source": [
    "datas <- summaryMeasureGenerator$getNext(n = B)\n",
    "result <- mclapply(seq(B), \n",
    "  function(i) {\n",
    "    osl$sample_iteratively(data = datas[i,],\n",
    "                           randomVariables = randomVariables,\n",
    "                           intervention = intervention,\n",
    "                           tau = tau)\n",
    "  }, mc.cores=cores) %>%\n",
    "  lapply(., function(x) { tail(x, 1)$Y }) %>%\n",
    "  unlist\n",
    "\n",
    "# Calculate psi\n",
    "psi.estimation <- mean(result)\n",
    "\n",
    "# Plot the convergence\n",
    "plot(cumsum(result)/seq(along=result))\n",
    "\n",
    "# Print the outcome\n",
    "print(paste('We have approximated psi as', psi.approx, \n",
    "            'our estimate is', psi.estimation, \n",
    "            'which is a difference of:', abs(psi.approx - psi.estimation)))"
   ]
  }
 ],
 "metadata": {
  "kernelspec": {
   "display_name": "R",
   "language": "R",
   "name": "ir"
  },
  "language_info": {
   "codemirror_mode": "r",
   "file_extension": ".r",
   "mimetype": "text/x-r-source",
   "name": "R",
   "pygments_lexer": "r",
   "version": "3.3.2"
  }
 },
 "nbformat": 4,
 "nbformat_minor": 2
}
